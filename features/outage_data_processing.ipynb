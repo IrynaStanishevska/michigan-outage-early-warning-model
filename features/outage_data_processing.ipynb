{
  "cells": [
    {
      "cell_type": "markdown",
      "metadata": {
        "id": "4Z-c9CZ68c0G"
      },
      "source": [
        "# Preprocessing"
      ]
    },
    {
      "cell_type": "code",
      "source": [
        "import pandas as pd"
      ],
      "metadata": {
        "id": "e06abMcvgDIM"
      },
      "execution_count": null,
      "outputs": []
    },
    {
      "cell_type": "markdown",
      "metadata": {
        "id": "rsotk1R3Oi4I"
      },
      "source": [
        "## 1. Files"
      ]
    },
    {
      "cell_type": "code",
      "execution_count": null,
      "metadata": {
        "id": "IwMZ212Wjtsy"
      },
      "outputs": [],
      "source": [
        "file_path = \"data/mi_eaglei_outages_2021.csv\"\n",
        "df_eaglei_2021 = pd.read_csv(file_path)"
      ]
    },
    {
      "cell_type": "code",
      "execution_count": null,
      "metadata": {
        "id": "9CU4Gpa5lPCi"
      },
      "outputs": [],
      "source": [
        "file_path = \"data/mi_eaglei_outages_2022.csv\"\n",
        "df_eaglei_2022 = pd.read_csv(file_path)"
      ]
    },
    {
      "cell_type": "code",
      "execution_count": null,
      "metadata": {
        "id": "WiekqUkXI5Co"
      },
      "outputs": [],
      "source": [
        "df_eaglei_2021['run_start_time'] = pd.to_datetime(df_eaglei_2021['run_start_time'], errors='coerce')\n",
        "# sort data by county and timestamp\n",
        "df_eaglei_2021.sort_values(['county', 'run_start_time'], inplace=True)\n",
        "\n",
        "min_time_2021 = df_eaglei_2021[df_eaglei_2021['run_start_time'].dt.year == 2021]['run_start_time'].min()\n",
        "max_time_2021 = df_eaglei_2021[df_eaglei_2021['run_start_time'].dt.year == 2021]['run_start_time'].max()\n",
        "\n",
        "print(\"2021 - Minimum run_start_time:\", min_time_2021)\n",
        "print(\"2021 - Maximum run_start_time:\", max_time_2021)"
      ]
    },
    {
      "cell_type": "code",
      "execution_count": null,
      "metadata": {
        "id": "eO0vBWCBLGbj"
      },
      "outputs": [],
      "source": [
        "df_eaglei_2022['run_start_time'] = pd.to_datetime(df_eaglei_2022['run_start_time'], errors='coerce')\n",
        "# sort data by county and timestamp\n",
        "df_eaglei_2022.sort_values(['county', 'run_start_time'], inplace=True)\n",
        "\n",
        "min_time_2022 = df_eaglei_2022[df_eaglei_2022['run_start_time'].dt.year == 2022]['run_start_time'].min()\n",
        "max_time_2022 = df_eaglei_2022[df_eaglei_2022['run_start_time'].dt.year == 2022]['run_start_time'].max()\n",
        "\n",
        "print(\"2022 - Minimum run_start_time:\", min_time_2022)\n",
        "print(\"2022 - Maximum run_start_time:\", max_time_2022)"
      ]
    },
    {
      "cell_type": "markdown",
      "metadata": {
        "id": "R-ba1Gj5K06Z"
      },
      "source": [
        "## 2. NaN Processing"
      ]
    },
    {
      "cell_type": "code",
      "execution_count": null,
      "metadata": {
        "id": "oXhUgcHwK06a"
      },
      "outputs": [],
      "source": [
        "def fill_short_gaps(df, short_gap_limit=16):\n",
        "    \"\"\"\n",
        "    Fill short gaps (16 hours) in 'sum' using linear interpolation\n",
        "    \"\"\"\n",
        "    df_interpolated = df.copy()\n",
        "    df_interpolated.sort_values(['fips_code','run_start_time'], inplace=True)\n",
        "    df_interpolated['sum'] = (\n",
        "        df_interpolated.groupby('fips_code')['sum']\n",
        "        .apply(lambda x: x.interpolate(limit=short_gap_limit, limit_direction='forward'))\n",
        "        .reset_index(level=0, drop=True)  # Reset index\n",
        "    )\n",
        "\n",
        "    return df_interpolated"
      ]
    },
    {
      "cell_type": "code",
      "source": [
        "df_eaglei_2021 = fill_short_gaps(df_eaglei_2021)\n",
        "\n",
        "df_eaglei_2022 = fill_short_gaps(df_eaglei_2022)"
      ],
      "metadata": {
        "id": "zD7vyKQWdrsP"
      },
      "execution_count": null,
      "outputs": []
    },
    {
      "cell_type": "markdown",
      "metadata": {
        "id": "K-OwXD7iK6rK"
      },
      "source": [
        "## 3. Aggregation"
      ]
    },
    {
      "cell_type": "code",
      "execution_count": null,
      "metadata": {
        "id": "CHAuciUYCoWE"
      },
      "outputs": [],
      "source": [
        "def select_hourly_snapshot(df_in, timecol='run_start_time', sumcol='sum'):\n",
        "    \"\"\"\n",
        "    1. Sum 'sum' values for all counties within each 15-min timestamp - total_15.\n",
        "    2. hour_bin = floor('h') for all timestamps\n",
        "    3. for each 'hour_bin' keep the raw with max 'total_15'\n",
        "    4. merge with initial dataframe, keep the raws with the maximum 'total_15'\n",
        "    5. run_start_time = hour_bin, sum = total_15 and save initial run_start_time in orig_run_start_time.\n",
        "    \"\"\"\n",
        "\n",
        "\n",
        "    df = df_in.copy()\n",
        "    df[timecol] = pd.to_datetime(df[timecol], errors='coerce')\n",
        "    df.sort_values(by=timecol, inplace=True)\n",
        "\n",
        "    # total 'sum' on all counties\n",
        "    df_sum_15 = (\n",
        "        df.groupby(timecol, as_index=False)[sumcol]\n",
        "          .sum()  # sum all raws with the same timecol\n",
        "          .rename(columns={sumcol: 'total_15'})\n",
        "    )\n",
        "\n",
        "    # hour_bin = floor('h') rounded by hour\n",
        "    df_sum_15['hour_bin'] = df_sum_15[timecol].dt.floor('h')\n",
        "\n",
        "    # for each 'hour_bin' keep the raw with max total_15\n",
        "    df_sum_15.sort_values(['hour_bin','total_15'], ascending=[True, True], inplace=True)\n",
        "    df_max_15 = df_sum_15.drop_duplicates(subset='hour_bin', keep='last').copy()\n",
        "\n",
        "    #merge with initial dataframe keep the raws where starttime = max load (df_max_15)\n",
        "    df_merged = pd.merge(\n",
        "        df,\n",
        "        df_max_15[[timecol,'hour_bin']],  # merge by run_start_time\n",
        "        on=timecol,\n",
        "        how='inner'\n",
        "    )\n",
        "\n",
        "    # df_merged contains all columns from df_in + hour_bin\n",
        "    # save initial run_start_time in orig_run_start_time, and replace run_start_time with hour_bin\n",
        "    df_merged['orig_run_start_time'] = df_merged[timecol]\n",
        "    df_merged[timecol] = df_merged['hour_bin']\n",
        "\n",
        "    # drop hour_bin\n",
        "    df_merged.drop(columns=['hour_bin'], inplace=True, errors='ignore')\n",
        "\n",
        "    return df_merged"
      ]
    },
    {
      "cell_type": "code",
      "execution_count": null,
      "metadata": {
        "id": "h63GzRXJCwO5"
      },
      "outputs": [],
      "source": [
        "df_eaglei_2021['run_start_time'] = pd.to_datetime(df_eaglei_2021['run_start_time'], errors='coerce')\n",
        "df_eaglei_2021.sort_values(['county','run_start_time'], inplace=True)\n",
        "\n",
        "df_outages_2021 = select_hourly_snapshot(df_eaglei_2021,\n",
        "                                             timecol='run_start_time',\n",
        "                                             sumcol='sum')\n",
        "\n",
        "print(\"df_outages_2021 shape:\", df_outages_2021.shape)\n",
        "print(df_outages_2021.head(20))"
      ]
    },
    {
      "cell_type": "code",
      "execution_count": null,
      "metadata": {
        "id": "Cpme7ZRyzYcG"
      },
      "outputs": [],
      "source": [
        "df_eaglei_2022['run_start_time'] = pd.to_datetime(df_eaglei_2022['run_start_time'], errors='coerce')\n",
        "df_eaglei_2022.sort_values(['county','run_start_time'], inplace=True)\n",
        "\n",
        "df_selected_2022 = select_hourly_snapshot(df_eaglei_2022,\n",
        "                                             timecol='run_start_time',\n",
        "                                             sumcol='sum')\n",
        "\n",
        "print(\"df_outages_2022 shape:\", df_outages_2022.shape)\n",
        "print(df_outages_2022.head(20))"
      ]
    },
    {
      "cell_type": "code",
      "execution_count": null,
      "metadata": {
        "id": "crEWMb3zNuT2"
      },
      "outputs": [],
      "source": [
        "df_outages_2021.drop(columns='orig_run_start_time', inplace=True, errors='ignore')\n"
      ]
    },
    {
      "cell_type": "code",
      "execution_count": null,
      "metadata": {
        "id": "flmBQdpAN-Mo"
      },
      "outputs": [],
      "source": [
        "df_outages_2022.drop(columns='orig_run_start_time', inplace=True, errors='ignore')"
      ]
    }
  ],
  "metadata": {
    "colab": {
      "collapsed_sections": [
        "4JesAkmtOMKC",
        "rsotk1R3Oi4I",
        "R-ba1Gj5K06Z",
        "K-OwXD7iK6rK",
        "FJKl9TDwqXvR",
        "gnoNI54q-U3e",
        "ZHeINj4IUM-5",
        "HXj2UtBQ2xiv",
        "r0YJ9EMtflgB",
        "y5BTi9iyQIcD",
        "XHifneDzWjih",
        "b1ROoIaoFm4A",
        "e6-hdHJVPzlp",
        "cHMzyhlbzEzY",
        "26IL3qkl0UeT",
        "tpHqnK4Kh2PZ",
        "Vi8_kTucKkpH",
        "QUe2mQppiPqC",
        "2XCqVhYOx7V9",
        "t4fP9d6Q3tGO"
      ],
      "machine_shape": "hm",
      "provenance": [],
      "toc_visible": true
    },
    "kernelspec": {
      "display_name": "Python 3",
      "name": "python3"
    },
    "language_info": {
      "name": "python"
    }
  },
  "nbformat": 4,
  "nbformat_minor": 0
}
